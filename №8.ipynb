{
 "cells": [
  {
   "cell_type": "code",
   "execution_count": 1,
   "id": "c5eef16f",
   "metadata": {},
   "outputs": [],
   "source": [
    "import matplotlib.pyplot as plt\n",
    "%matplotlib inline"
   ]
  },
  {
   "cell_type": "code",
   "execution_count": 2,
   "id": "d281b23d",
   "metadata": {},
   "outputs": [],
   "source": [
    "import networkx as nx\n",
    "import random\n",
    "from collections import defaultdict"
   ]
  },
  {
   "cell_type": "code",
   "execution_count": 3,
   "id": "b7745a0a",
   "metadata": {},
   "outputs": [
    {
     "data": {
      "image/png": "[encoded data removed]",
      "text/plain": [
       "<Figure size 432x288 with 1 Axes>"
      ]
     },
     "metadata": {
      "needs_background": "light"
     },
     "output_type": "display_data"
    }
   ],
   "source": [
    "def func(x):\n",
    "    return x*x*298/(x*(2-x)*298 + 2)\n",
    "cd = defaultdict(int)\n",
    "x = set()\n",
    "y = set()\n",
    "u = set()\n",
    "v = set()\n",
    "J = float()\n",
    "s = str()\n",
    "G = nx.path_graph(300)\n",
    "for num in range (1, 21):\n",
    "    p = num * 0.05\n",
    "    f = open('C:\\\\Users\\\\lesha\\\\Documents\\\\Большие графы\\\\graph8.txt', 'w')\n",
    "    J = 0\n",
    "    G.clear()\n",
    "    for i in range(300):\n",
    "        for j in range(i+1, 300):\n",
    "            if random.random() <= p:\n",
    "                G.add_edge(i, j)\n",
    "    #G = nx.read_edgelist(\"C:\\\\Users\\\\lesha\\\\Documents\\\\Большие графы\\\\graph8.txt\")\n",
    "    for n in nx.edges(G):\n",
    "        x.clear()\n",
    "        y.clear()\n",
    "        a = n[0]\n",
    "        b = n[1]\n",
    "        for m in G.neighbors(a):\n",
    "            x.add(m)\n",
    "        for m in G.neighbors(b):\n",
    "            y.add(m)\n",
    "        u = x.union(y)\n",
    "        v = x.intersection(y)\n",
    "        if len(u) != 0:\n",
    "            J += len(v)/len(u)\n",
    "    cd[p] = J/len(nx.edges(G))\n",
    "    f.close()\n",
    "xdata = sorted(cd.keys())\n",
    "ydata = [cd[d] for d in xdata]\n",
    "plt.plot(xdata, ydata, ls='None', marker='.')\n",
    "ydata = ydata = [func(d) for d in xdata]\n",
    "plt.plot(xdata, ydata)\n",
    "plt.show()"
   ]
  },
  {
   "cell_type": "code",
   "execution_count": null,
   "id": "7cd52d13",
   "metadata": {},
   "outputs": [],
   "source": []
  }
 ],
 "metadata": {
  "kernelspec": {
   "display_name": "Python 3 (ipykernel)",
   "language": "python",
   "name": "python3"
  },
  "language_info": {
   "codemirror_mode": {
    "name": "ipython",
    "version": 3
   },
   "file_extension": ".py",
   "mimetype": "text/x-python",
   "name": "python",
   "nbconvert_exporter": "python",
   "pygments_lexer": "ipython3",
   "version": "3.10.4"
  }
 },
 "nbformat": 4,
 "nbformat_minor": 5
}
